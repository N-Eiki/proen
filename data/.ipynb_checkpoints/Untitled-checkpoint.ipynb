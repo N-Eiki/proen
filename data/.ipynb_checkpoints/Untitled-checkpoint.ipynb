{
 "cells": [
  {
   "cell_type": "code",
   "execution_count": 49,
   "metadata": {},
   "outputs": [
    {
     "data": {
      "text/plain": [
       "'/Users/nagataeiki/5seme/プロ演/グループ活動/data/3001'"
      ]
     },
     "execution_count": 49,
     "metadata": {},
     "output_type": "execute_result"
    }
   ],
   "source": [
    "import os\n",
    "path =os.getcwd()+\"/3001\"\n",
    "path\n",
    "files = os.listdir(path)"
   ]
  },
  {
   "cell_type": "code",
   "execution_count": 50,
   "metadata": {},
   "outputs": [],
   "source": [
    "files = os.listdir(path)"
   ]
  },
  {
   "cell_type": "code",
   "execution_count": 52,
   "metadata": {},
   "outputs": [
    {
     "data": {
      "text/plain": [
       "['sm30013110.jsonl',\n",
       " 'sm30014400.jsonl',\n",
       " 'sm30013953.jsonl',\n",
       " 'sm30014892.jsonl',\n",
       " 'sm30013155.jsonl']"
      ]
     },
     "execution_count": 52,
     "metadata": {},
     "output_type": "execute_result"
    }
   ],
   "source": [
    "files[0:5]"
   ]
  },
  {
   "cell_type": "code",
   "execution_count": 67,
   "metadata": {},
   "outputs": [],
   "source": []
  },
  {
   "cell_type": "code",
   "execution_count": 72,
   "metadata": {},
   "outputs": [],
   "source": []
  },
  {
   "cell_type": "code",
   "execution_count": 582,
   "metadata": {},
   "outputs": [
    {
     "name": "stdout",
     "output_type": "stream",
     "text": [
      "(10000, 4)\n",
      "(20000, 4)\n",
      "(30000, 4)\n",
      "(40000, 4)\n",
      "(50000, 4)\n"
     ]
    }
   ],
   "source": [
    "import json\n",
    "import pandas as pd\n",
    "df = pd.DataFrame(columns=[\"date\", \"content\", \"type\", \"word\"])\n",
    "for i in (range(len(files))):\n",
    "    with open(\"./3001/\"+files[i]) as f:\n",
    "        for line in f:\n",
    "            data=json.loads(line)\n",
    "            newdf = pd.DataFrame(np.array([data[\"date\"], data[\"content\"], np.nan, np.nan]).reshape(1,4), columns=[\"date\", \"content\", \"type\", \"word\"])\n",
    "            df = pd.concat([df, newdf])\n",
    "            if df.shape[0]%10000==0:\n",
    "                print(df.shape)\n",
    "            if df.shape[0]>50000:\n",
    "                break\n",
    "        if df.shape[0]>50000:\n",
    "            break"
   ]
  },
  {
   "cell_type": "code",
   "execution_count": 157,
   "metadata": {},
   "outputs": [],
   "source": [
    "# df"
   ]
  },
  {
   "cell_type": "code",
   "execution_count": 5,
   "metadata": {},
   "outputs": [],
   "source": [
    "# df.to_csv('some_comment_data.csv', index=False)\n",
    "\n",
    "df = pd.read_csv('some_comment_data.csv')"
   ]
  },
  {
   "cell_type": "code",
   "execution_count": 104,
   "metadata": {},
   "outputs": [],
   "source": [
    "# # df = pd.DataFrame({\"date\":np.nan, \"vpos\":np.nan, \"content\":np.nan, \"command\":np.nan, \"type\":np.nan})\n",
    "# df = pd.DataFrame(columns=[\"date\", \"vpos\", \"content\", \"command\", \"type\"])\n",
    "# df"
   ]
  },
  {
   "cell_type": "code",
   "execution_count": 10,
   "metadata": {},
   "outputs": [
    {
     "data": {
      "text/plain": [
       "(11238, 4)"
      ]
     },
     "execution_count": 10,
     "metadata": {},
     "output_type": "execute_result"
    }
   ],
   "source": [
    "# import pandas as pd\n",
    "# df = pd.read_csv('./some_comment_data.csv')\n",
    "# df.shape\n",
    "\n",
    "watcheddf.shape"
   ]
  },
  {
   "cell_type": "code",
   "execution_count": 41,
   "metadata": {},
   "outputs": [],
   "source": [
    "# badworddf = pd.DataFrame(columns=[\"date\", \"content\", \"type\", \"word\"])\n",
    "# hinikudf=pd.DataFrame(columns=[\"date\", \"content\", \"type\", \"word\"])\n",
    "# neutraldf=pd.DataFrame(columns=[\"date\", \"content\", \"type\", \"word\"])\n",
    "\n",
    "import pandas as pd\n",
    "badworddf = pd.read_csv('badword.csv')\n",
    "hinikudf = pd.read_csv('hiniku.csv')\n",
    "neutraldf = pd.read_csv('neutral.csv')\n",
    "\n",
    "watcheddf = pd.concat([badworddf, hinikudf])\n",
    "watcheddf = pd.concat([watcheddf, neutral])"
   ]
  },
  {
   "cell_type": "code",
   "execution_count": 74,
   "metadata": {},
   "outputs": [
    {
     "name": "stdin",
     "output_type": "stream",
     "text": [
      "もう異常気象が名物になりつつある　　|  0:ニュートラル, 1:悪口, 2:皮肉 q\n"
     ]
    },
    {
     "data": {
      "text/plain": [
       "(10986, 404, 250, 11674)"
      ]
     },
     "execution_count": 74,
     "metadata": {},
     "output_type": "execute_result"
    }
   ],
   "source": [
    "import numpy as np\n",
    "\n",
    "def concatdf(sentence, word,r, neutraldf, badworddf, hinikudf, watcheddf):\n",
    "    newdf = pd.DataFrame(np.array([r[1], r[2], sentence, word]).reshape(1,4), columns=[\"date\", \"content\", \"type\", \"word\"])\n",
    "    if sentence==\"0\" or sentence==\"０\" or sentence==\"\":\n",
    "#         if(neutraldf.shape[0]<=250):\n",
    "            pass\n",
    "            neutraldf = pd.concat([neutraldf, newdf])\n",
    "        \n",
    "    if sentence==\"1\" or sentence==\"１\":\n",
    "#         if(badworddf.shape[0]<=250):\n",
    "            badworddf = pd.concat([badworddf, newdf])\n",
    "        \n",
    "    if sentence==\"2\" or sentence==\"２\":\n",
    "#         if hinikudf.shape[0] <=250:\n",
    "            hinikudf = pd.concat([hinikudf, newdf])\n",
    "    watcheddf = pd.concat([watcheddf, newdf])\n",
    "    return neutraldf, badworddf, hinikudf,watcheddf\n",
    "\n",
    "df= df[~df.duplicated(subset='content')]\n",
    "neutraldf = neutraldf.iloc[::-1]\n",
    "badworddf = badworddf.iloc[::-1]\n",
    "hinikudf  =hinikudf.iloc[::-1]\n",
    "neutraldf = neutraldf[~neutraldf.duplicated(subset='content')]\n",
    "badworddf = badworddf[~badworddf.duplicated(subset='content')]\n",
    "hinikudf  = hinikudf[~hinikudf.duplicated(subset='content')]\n",
    "i=1\n",
    "\n",
    "\n",
    "\n",
    "for r in df.itertuples():\n",
    "    i+=1\n",
    "    if watcheddf.shape[0]>i:\n",
    "        pass\n",
    "    else:\n",
    "        word=-1\n",
    "      \n",
    "    \n",
    "    \n",
    "        sentence=input(r[2]+\"　　|  0:ニュートラル, 1:悪口, 2:皮肉\")\n",
    "        if(sentence==\"1\" or sentence==\"１\"):\n",
    "            word = input('bad word')\n",
    "        if sentence==\"q\"or word==\"q\":\n",
    "            break\n",
    "            \n",
    "            \n",
    "        if sentence==\"\":\n",
    "            sentence=\"0\"\n",
    "        neutraldf, badworddf, hinikudf, watcheddf = concatdf(sentence, word,r, neutraldf, badworddf, hinikudf, watcheddf)\n",
    "        \n",
    "        \n",
    "neutraldf.shape[0], badworddf.shape[0], hinikudf.shape[0], watcheddf.shape[0]\n",
    "\n"
   ]
  },
  {
   "cell_type": "code",
   "execution_count": 171,
   "metadata": {},
   "outputs": [],
   "source": [
    "neutraldf  =pd.read_csv('./neautral/neutral.csv')\n",
    "neutral = neutraldf.sample(250)\n",
    "# bad = badworddf.sample(250)\n",
    "# hiniku = hinikudf.sample(250)\n",
    "\n",
    "neutral.to_csv('./neautral//neutral.csv', index=False)\n",
    "# bad.to_csv('./bad.csv', index=False)\n",
    "# hiniku.to_csv('./hiniku.csv', index=False)\n"
   ]
  },
  {
   "cell_type": "code",
   "execution_count": 66,
   "metadata": {},
   "outputs": [
    {
     "name": "stdin",
     "output_type": "stream",
     "text": [
      " q\n"
     ]
    }
   ],
   "source": [
    "while(1):\n",
    "    text = input()\n",
    "    if(text==\"q\"):\n",
    "        break;\n",
    "        \n",
    "    newdf = pd.DataFrame(np.array([np.nan, text, 2, -1]).reshape(1,4), columns=[\"date\", \"content\", \"type\", \"word\"])\n",
    "    hinikudf=pd.concat([hinikudf, newdf])"
   ]
  },
  {
   "cell_type": "code",
   "execution_count": 633,
   "metadata": {},
   "outputs": [],
   "source": [
    "# pd.DataFrame(np.array([np.nan, \"aaa\", 2, -1]).reshape(1,4), columns=[\"date\", \"content\", \"type\", \"word\"])"
   ]
  },
  {
   "cell_type": "code",
   "execution_count": 72,
   "metadata": {},
   "outputs": [],
   "source": [
    "neutraldf = neutraldf.iloc[5:]"
   ]
  },
  {
   "cell_type": "code",
   "execution_count": 73,
   "metadata": {},
   "outputs": [],
   "source": [
    "neutraldf.to_csv('./book/all_neutral.csv')"
   ]
  },
  {
   "cell_type": "code",
   "execution_count": 786,
   "metadata": {},
   "outputs": [
    {
     "data": {
      "text/plain": [
       "(10583, 404, 251)"
      ]
     },
     "execution_count": 786,
     "metadata": {},
     "output_type": "execute_result"
    }
   ],
   "source": []
  },
  {
   "cell_type": "code",
   "execution_count": 794,
   "metadata": {},
   "outputs": [],
   "source": [
    "neutraldf.to_csv('./neutral.csv', index=False)\n",
    "badworddf.to_csv('./badword.csv', index=False)\n",
    "hinikudf.to_csv('./hiniku.csv', index=False)"
   ]
  },
  {
   "cell_type": "code",
   "execution_count": 638,
   "metadata": {},
   "outputs": [],
   "source": [
    "# hinikudf\n"
   ]
  },
  {
   "cell_type": "code",
   "execution_count": 782,
   "metadata": {},
   "outputs": [
    {
     "data": {
      "text/html": [
       "<div>\n",
       "<style scoped>\n",
       "    .dataframe tbody tr th:only-of-type {\n",
       "        vertical-align: middle;\n",
       "    }\n",
       "\n",
       "    .dataframe tbody tr th {\n",
       "        vertical-align: top;\n",
       "    }\n",
       "\n",
       "    .dataframe thead th {\n",
       "        text-align: right;\n",
       "    }\n",
       "</style>\n",
       "<table border=\"1\" class=\"dataframe\">\n",
       "  <thead>\n",
       "    <tr style=\"text-align: right;\">\n",
       "      <th></th>\n",
       "      <th>date</th>\n",
       "      <th>content</th>\n",
       "      <th>type</th>\n",
       "      <th>word</th>\n",
       "    </tr>\n",
       "  </thead>\n",
       "  <tbody>\n",
       "    <tr>\n",
       "      <th>0</th>\n",
       "      <td>1478889311</td>\n",
       "      <td>このゲームの美幸はかなり性格がおかしいから・・・</td>\n",
       "      <td>nan</td>\n",
       "      <td>nan</td>\n",
       "    </tr>\n",
       "    <tr>\n",
       "      <th>0</th>\n",
       "      <td>1478867710</td>\n",
       "      <td>アスカみたいな性格になってるw</td>\n",
       "      <td>nan</td>\n",
       "      <td>nan</td>\n",
       "    </tr>\n",
       "    <tr>\n",
       "      <th>0</th>\n",
       "      <td>1478844866</td>\n",
       "      <td>美雪の性格がおかしいｗ</td>\n",
       "      <td>nan</td>\n",
       "      <td>nan</td>\n",
       "    </tr>\n",
       "    <tr>\n",
       "      <th>0</th>\n",
       "      <td>1478843901</td>\n",
       "      <td>みやむーの声だから凄く性格違うように思える</td>\n",
       "      <td>nan</td>\n",
       "      <td>nan</td>\n",
       "    </tr>\n",
       "    <tr>\n",
       "      <th>0</th>\n",
       "      <td>1478843682</td>\n",
       "      <td>声がアスカなせいか美雪の性格がキツく感じるｗ</td>\n",
       "      <td>nan</td>\n",
       "      <td>nan</td>\n",
       "    </tr>\n",
       "    <tr>\n",
       "      <th>0</th>\n",
       "      <td>1479614450</td>\n",
       "      <td>飛鷹の性格上でしょ</td>\n",
       "      <td>nan</td>\n",
       "      <td>nan</td>\n",
       "    </tr>\n",
       "    <tr>\n",
       "      <th>0</th>\n",
       "      <td>1478866200</td>\n",
       "      <td>性格が男らしい分身体で女性らしてバランスとってるからね</td>\n",
       "      <td>nan</td>\n",
       "      <td>nan</td>\n",
       "    </tr>\n",
       "    <tr>\n",
       "      <th>0</th>\n",
       "      <td>1478777527</td>\n",
       "      <td>デッキデスゴストリ組んで性格悪いと言われました</td>\n",
       "      <td>nan</td>\n",
       "      <td>nan</td>\n",
       "    </tr>\n",
       "    <tr>\n",
       "      <th>0</th>\n",
       "      <td>1478793030</td>\n",
       "      <td>このプリンセスがいい性格してるwww</td>\n",
       "      <td>nan</td>\n",
       "      <td>nan</td>\n",
       "    </tr>\n",
       "    <tr>\n",
       "      <th>0</th>\n",
       "      <td>1484486120</td>\n",
       "      <td>性格が悪いんじゃない　野心があるのだよ</td>\n",
       "      <td>nan</td>\n",
       "      <td>nan</td>\n",
       "    </tr>\n",
       "    <tr>\n",
       "      <th>0</th>\n",
       "      <td>1479027495</td>\n",
       "      <td>2人とも性格悪そう</td>\n",
       "      <td>nan</td>\n",
       "      <td>nan</td>\n",
       "    </tr>\n",
       "    <tr>\n",
       "      <th>0</th>\n",
       "      <td>1480182433</td>\n",
       "      <td>服も性格もみんなバランスいいよなぁ</td>\n",
       "      <td>nan</td>\n",
       "      <td>nan</td>\n",
       "    </tr>\n",
       "  </tbody>\n",
       "</table>\n",
       "</div>"
      ],
      "text/plain": [
       "         date                      content type word\n",
       "0  1478889311     このゲームの美幸はかなり性格がおかしいから・・・  nan  nan\n",
       "0  1478867710              アスカみたいな性格になってるw  nan  nan\n",
       "0  1478844866                  美雪の性格がおかしいｗ  nan  nan\n",
       "0  1478843901        みやむーの声だから凄く性格違うように思える  nan  nan\n",
       "0  1478843682       声がアスカなせいか美雪の性格がキツく感じるｗ  nan  nan\n",
       "0  1479614450                    飛鷹の性格上でしょ  nan  nan\n",
       "0  1478866200  性格が男らしい分身体で女性らしてバランスとってるからね  nan  nan\n",
       "0  1478777527      デッキデスゴストリ組んで性格悪いと言われました  nan  nan\n",
       "0  1478793030           このプリンセスがいい性格してるwww  nan  nan\n",
       "0  1484486120          性格が悪いんじゃない　野心があるのだよ  nan  nan\n",
       "0  1479027495                    2人とも性格悪そう  nan  nan\n",
       "0  1480182433            服も性格もみんなバランスいいよなぁ  nan  nan"
      ]
     },
     "execution_count": 782,
     "metadata": {},
     "output_type": "execute_result"
    }
   ],
   "source": [
    "df2=df[df.content.str.contains(\"性格\")].iloc[::-1]\n",
    "df2"
   ]
  },
  {
   "cell_type": "code",
   "execution_count": 793,
   "metadata": {},
   "outputs": [],
   "source": [
    "hiniku=hinikudf[hinikudf.content!=\"\"].shape"
   ]
  },
  {
   "cell_type": "code",
   "execution_count": 75,
   "metadata": {},
   "outputs": [],
   "source": []
  },
  {
   "cell_type": "code",
   "execution_count": 126,
   "metadata": {},
   "outputs": [
    {
     "data": {
      "text/html": [
       "<div>\n",
       "<style scoped>\n",
       "    .dataframe tbody tr th:only-of-type {\n",
       "        vertical-align: middle;\n",
       "    }\n",
       "\n",
       "    .dataframe tbody tr th {\n",
       "        vertical-align: top;\n",
       "    }\n",
       "\n",
       "    .dataframe thead th {\n",
       "        text-align: right;\n",
       "    }\n",
       "</style>\n",
       "<table border=\"1\" class=\"dataframe\">\n",
       "  <thead>\n",
       "    <tr style=\"text-align: right;\">\n",
       "      <th></th>\n",
       "      <th>No</th>\n",
       "      <th>content</th>\n",
       "      <th>type</th>\n",
       "    </tr>\n",
       "  </thead>\n",
       "  <tbody>\n",
       "    <tr>\n",
       "      <th>0</th>\n",
       "      <td>1</td>\n",
       "      <td>ピアノしか上手くないあ</td>\n",
       "      <td>2</td>\n",
       "    </tr>\n",
       "    <tr>\n",
       "      <th>1</th>\n",
       "      <td>2</td>\n",
       "      <td>スタッカート？な歌い方じゃなければなぁ</td>\n",
       "      <td>2</td>\n",
       "    </tr>\n",
       "    <tr>\n",
       "      <th>2</th>\n",
       "      <td>3</td>\n",
       "      <td>OVAだけ、仁王の作画は神だったｗｗ</td>\n",
       "      <td>2</td>\n",
       "    </tr>\n",
       "    <tr>\n",
       "      <th>3</th>\n",
       "      <td>4</td>\n",
       "      <td>最初は主人公らしかったのにね</td>\n",
       "      <td>2</td>\n",
       "    </tr>\n",
       "    <tr>\n",
       "      <th>4</th>\n",
       "      <td>5</td>\n",
       "      <td>ガキさんは優先でやっていこう</td>\n",
       "      <td>2</td>\n",
       "    </tr>\n",
       "    <tr>\n",
       "      <th>...</th>\n",
       "      <td>...</td>\n",
       "      <td>...</td>\n",
       "      <td>...</td>\n",
       "    </tr>\n",
       "    <tr>\n",
       "      <th>78</th>\n",
       "      <td>79</td>\n",
       "      <td>主婦は悩みがなくていいよね</td>\n",
       "      <td>2</td>\n",
       "    </tr>\n",
       "    <tr>\n",
       "      <th>79</th>\n",
       "      <td>80</td>\n",
       "      <td>つまらない情報ありがとう</td>\n",
       "      <td>2</td>\n",
       "    </tr>\n",
       "    <tr>\n",
       "      <th>80</th>\n",
       "      <td>81</td>\n",
       "      <td>スマホがないと勉強が捗るね</td>\n",
       "      <td>2</td>\n",
       "    </tr>\n",
       "    <tr>\n",
       "      <th>81</th>\n",
       "      <td>82</td>\n",
       "      <td>頭だけはいいんだね</td>\n",
       "      <td>2</td>\n",
       "    </tr>\n",
       "    <tr>\n",
       "      <th>82</th>\n",
       "      <td>83</td>\n",
       "      <td>今日だけは豪華だな</td>\n",
       "      <td>2</td>\n",
       "    </tr>\n",
       "  </tbody>\n",
       "</table>\n",
       "<p>83 rows × 3 columns</p>\n",
       "</div>"
      ],
      "text/plain": [
       "           No                                                      content  \\\n",
       "0           1                                        ピアノしか上手くないあ             \n",
       "1           2                                スタッカート？な歌い方じゃなければなぁ             \n",
       "2           3                                 OVAだけ、仁王の作画は神だったｗｗ             \n",
       "3           4                                     最初は主人公らしかったのにね             \n",
       "4           5                                     ガキさんは優先でやっていこう             \n",
       "..        ...                                                ...             \n",
       "78         79                                      主婦は悩みがなくていいよね             \n",
       "79         80                                       つまらない情報ありがとう             \n",
       "80         81                                      スマホがないと勉強が捗るね             \n",
       "81         82                                          頭だけはいいんだね             \n",
       "82         83                                          今日だけは豪華だな             \n",
       "\n",
       "          type  \n",
       "0            2  \n",
       "1            2  \n",
       "2            2  \n",
       "3            2  \n",
       "4            2  \n",
       "..         ...  \n",
       "78           2  \n",
       "79           2  \n",
       "80           2  \n",
       "81           2  \n",
       "82           2  \n",
       "\n",
       "[83 rows x 3 columns]"
      ]
     },
     "execution_count": 126,
     "metadata": {},
     "output_type": "execute_result"
    }
   ],
   "source": [
    "pd.read_csv('hiniku/sample(2).csv')"
   ]
  },
  {
   "cell_type": "code",
   "execution_count": 152,
   "metadata": {},
   "outputs": [
    {
     "name": "stdout",
     "output_type": "stream",
     "text": [
      "(636, 3)\n"
     ]
    },
    {
     "data": {
      "text/html": [
       "<div>\n",
       "<style scoped>\n",
       "    .dataframe tbody tr th:only-of-type {\n",
       "        vertical-align: middle;\n",
       "    }\n",
       "\n",
       "    .dataframe tbody tr th {\n",
       "        vertical-align: top;\n",
       "    }\n",
       "\n",
       "    .dataframe thead th {\n",
       "        text-align: right;\n",
       "    }\n",
       "</style>\n",
       "<table border=\"1\" class=\"dataframe\">\n",
       "  <thead>\n",
       "    <tr style=\"text-align: right;\">\n",
       "      <th></th>\n",
       "      <th>content</th>\n",
       "      <th>type</th>\n",
       "      <th>word</th>\n",
       "    </tr>\n",
       "  </thead>\n",
       "  <tbody>\n",
       "    <tr>\n",
       "      <th>0</th>\n",
       "      <td>なにやってんだあいつら・・</td>\n",
       "      <td>2</td>\n",
       "      <td>-1.0</td>\n",
       "    </tr>\n",
       "    <tr>\n",
       "      <th>1</th>\n",
       "      <td>ちょっと薬物キメ過ぎなんとちゃう？</td>\n",
       "      <td>2</td>\n",
       "      <td>-1.0</td>\n",
       "    </tr>\n",
       "    <tr>\n",
       "      <th>2</th>\n",
       "      <td>初代の方が全然面白い</td>\n",
       "      <td>2</td>\n",
       "      <td>-1.0</td>\n",
       "    </tr>\n",
       "    <tr>\n",
       "      <th>3</th>\n",
       "      <td>聞こえん</td>\n",
       "      <td>2</td>\n",
       "      <td>-1.0</td>\n",
       "    </tr>\n",
       "    <tr>\n",
       "      <th>4</th>\n",
       "      <td>練習動画かな？</td>\n",
       "      <td>2</td>\n",
       "      <td>-1.0</td>\n",
       "    </tr>\n",
       "  </tbody>\n",
       "</table>\n",
       "</div>"
      ],
      "text/plain": [
       "             content  type  word\n",
       "0      なにやってんだあいつら・・     2  -1.0\n",
       "1  ちょっと薬物キメ過ぎなんとちゃう？     2  -1.0\n",
       "2         初代の方が全然面白い     2  -1.0\n",
       "3               聞こえん     2  -1.0\n",
       "4            練習動画かな？     2  -1.0"
      ]
     },
     "execution_count": 152,
     "metadata": {},
     "output_type": "execute_result"
    }
   ],
   "source": [
    "columns = [\"content\", \"type\", \"word\"]\n",
    "hiniku_a = pd.read_csv('hiniku/hiniku.csv')[[\"content\", \"type\", \"word\"]]\n",
    "hiniku_b = pd.read_csv('hiniku/hiniku_2[0000-0026].csv')[[\"content\", \"type\", \"word\"]]\n",
    "hiniku_c = pd.read_csv('hiniku/Comment-hiniku.csv')[[\"comment\", \"type\"]]\n",
    "hiniku_c[\"word\"] = -1\n",
    "hiniku_d = pd.read_csv('hiniku/sample(2).csv')\n",
    "hiniku_d[\"word\"] = -1\n",
    "hiniku_d.drop('       No', axis=1, inplace=True)\n",
    "\n",
    "hiniku_a.columns=columns\n",
    "hiniku_b.columns=columns\n",
    "hiniku_c.columns=columns\n",
    "hiniku_d.columns=columns\n",
    "\n",
    "tmp1 = pd.concat([hiniku_a, hiniku_b])\n",
    "tmp2 = pd.concat([hiniku_c, hiniku_d])\n",
    "hiniku = pd.concat([tmp1,tmp2])\n",
    "print(hiniku.shape)\n",
    "hiniku.head()"
   ]
  },
  {
   "cell_type": "code",
   "execution_count": 158,
   "metadata": {},
   "outputs": [
    {
     "name": "stdout",
     "output_type": "stream",
     "text": [
      "(969, 3)\n"
     ]
    },
    {
     "data": {
      "text/html": [
       "<div>\n",
       "<style scoped>\n",
       "    .dataframe tbody tr th:only-of-type {\n",
       "        vertical-align: middle;\n",
       "    }\n",
       "\n",
       "    .dataframe tbody tr th {\n",
       "        vertical-align: top;\n",
       "    }\n",
       "\n",
       "    .dataframe thead th {\n",
       "        text-align: right;\n",
       "    }\n",
       "</style>\n",
       "<table border=\"1\" class=\"dataframe\">\n",
       "  <thead>\n",
       "    <tr style=\"text-align: right;\">\n",
       "      <th></th>\n",
       "      <th>content</th>\n",
       "      <th>type</th>\n",
       "      <th>word</th>\n",
       "    </tr>\n",
       "  </thead>\n",
       "  <tbody>\n",
       "    <tr>\n",
       "      <th>0</th>\n",
       "      <td>ガイジ</td>\n",
       "      <td>1</td>\n",
       "      <td>ガイジ</td>\n",
       "    </tr>\n",
       "    <tr>\n",
       "      <th>1</th>\n",
       "      <td>くどい</td>\n",
       "      <td>1</td>\n",
       "      <td>くどい</td>\n",
       "    </tr>\n",
       "    <tr>\n",
       "      <th>2</th>\n",
       "      <td>偽物　ただの釣り動画</td>\n",
       "      <td>1</td>\n",
       "      <td>偽物</td>\n",
       "    </tr>\n",
       "    <tr>\n",
       "      <th>3</th>\n",
       "      <td>振り付けダサイ</td>\n",
       "      <td>1</td>\n",
       "      <td>ダサ</td>\n",
       "    </tr>\n",
       "    <tr>\n",
       "      <th>4</th>\n",
       "      <td>男きも</td>\n",
       "      <td>1</td>\n",
       "      <td>きも</td>\n",
       "    </tr>\n",
       "  </tbody>\n",
       "</table>\n",
       "</div>"
      ],
      "text/plain": [
       "      content  type word\n",
       "0         ガイジ     1  ガイジ\n",
       "1         くどい     1  くどい\n",
       "2  偽物　ただの釣り動画     1   偽物\n",
       "3     振り付けダサイ     1   ダサ\n",
       "4         男きも     1   きも"
      ]
     },
     "execution_count": 158,
     "metadata": {},
     "output_type": "execute_result"
    }
   ],
   "source": [
    "columns = [\"content\", \"type\", \"word\"]\n",
    "a = pd.read_csv('bad/bad.csv')[[\"content\", \"type\", \"word\"]]\n",
    "b = pd.read_csv('bad/bad_1(0000-0020).csv')[[\"content\", \"type\", \"word\"]]\n",
    "c = pd.read_csv('bad/Comment-slander.csv')[[\"comment\", \"type\"]]\n",
    "c[\"word\"] = -1\n",
    "d = pd.read_csv('bad/sample(1).csv')\n",
    "d[\"word\"] = -1\n",
    "d.drop('      No', axis=1, inplace=True)\n",
    "\n",
    "\n",
    "a.columns=columns\n",
    "b.columns=columns\n",
    "c.columns=columns\n",
    "d.columns=columns\n",
    "\n",
    "\n",
    "tmp1 = pd.concat([a, b])\n",
    "tmp2 = pd.concat([c, d])\n",
    "bad = pd.concat([tmp1,tmp2])\n",
    "print(bad.shape)\n",
    "bad.head()"
   ]
  },
  {
   "cell_type": "code",
   "execution_count": null,
   "metadata": {},
   "outputs": [],
   "source": []
  },
  {
   "cell_type": "code",
   "execution_count": 167,
   "metadata": {},
   "outputs": [],
   "source": [
    "a = pd.read_csv('./neautral/Comment-normal.csv')[[\"comment\", \"type\"]]\n",
    "a[\"word\"] =-1\n",
    "b = pd.read_csv('./neautral/neutral.csv')[[\"content\", \"type\", \"word\"]]\n",
    "c = pd.read_csv('./neautral/sample(0).csv')\n",
    "# normal_d = pd.read_csv('./neautral/')\n",
    "c[\"word\"]=-1\n",
    "c.drop('       No', axis=1, inplace=True)\n",
    "\n",
    "a.columns=columns\n",
    "b.columns=columns\n",
    "c.columns=columns\n",
    "\n",
    "\n",
    "tmp1 = pd.concat([a, b])\n",
    "normal = pd.concat([tmp1,c])"
   ]
  },
  {
   "cell_type": "code",
   "execution_count": 169,
   "metadata": {},
   "outputs": [],
   "source": [
    "normal.to_csv('clean/normal.csv')\n",
    "bad.to_csv('clean/bad.csv')\n",
    "hiniku.to_csv(\"clean/hiniku.csv\")"
   ]
  },
  {
   "cell_type": "code",
   "execution_count": null,
   "metadata": {},
   "outputs": [],
   "source": []
  },
  {
   "cell_type": "code",
   "execution_count": 3,
   "metadata": {},
   "outputs": [
    {
     "data": {
      "text/html": [
       "<div>\n",
       "<style scoped>\n",
       "    .dataframe tbody tr th:only-of-type {\n",
       "        vertical-align: middle;\n",
       "    }\n",
       "\n",
       "    .dataframe tbody tr th {\n",
       "        vertical-align: top;\n",
       "    }\n",
       "\n",
       "    .dataframe thead th {\n",
       "        text-align: right;\n",
       "    }\n",
       "</style>\n",
       "<table border=\"1\" class=\"dataframe\">\n",
       "  <thead>\n",
       "    <tr style=\"text-align: right;\">\n",
       "      <th></th>\n",
       "      <th>date</th>\n",
       "      <th>content</th>\n",
       "      <th>type</th>\n",
       "      <th>word</th>\n",
       "    </tr>\n",
       "  </thead>\n",
       "  <tbody>\n",
       "    <tr>\n",
       "      <th>0</th>\n",
       "      <td>1.478795e+09</td>\n",
       "      <td>なにやってんだあいつら・・</td>\n",
       "      <td>2</td>\n",
       "      <td>-1</td>\n",
       "    </tr>\n",
       "    <tr>\n",
       "      <th>1</th>\n",
       "      <td>1.478832e+09</td>\n",
       "      <td>ちょっと薬物キメ過ぎなんとちゃう？</td>\n",
       "      <td>2</td>\n",
       "      <td>-1</td>\n",
       "    </tr>\n",
       "    <tr>\n",
       "      <th>2</th>\n",
       "      <td>1.478706e+09</td>\n",
       "      <td>初代の方が全然面白い</td>\n",
       "      <td>2</td>\n",
       "      <td>-1</td>\n",
       "    </tr>\n",
       "    <tr>\n",
       "      <th>3</th>\n",
       "      <td>1.514253e+09</td>\n",
       "      <td>聞こえん</td>\n",
       "      <td>2</td>\n",
       "      <td>-1</td>\n",
       "    </tr>\n",
       "    <tr>\n",
       "      <th>4</th>\n",
       "      <td>1.485183e+09</td>\n",
       "      <td>練習動画かな？</td>\n",
       "      <td>2</td>\n",
       "      <td>-1</td>\n",
       "    </tr>\n",
       "  </tbody>\n",
       "</table>\n",
       "</div>"
      ],
      "text/plain": [
       "           date            content  type  word\n",
       "0  1.478795e+09      なにやってんだあいつら・・     2    -1\n",
       "1  1.478832e+09  ちょっと薬物キメ過ぎなんとちゃう？     2    -1\n",
       "2  1.478706e+09         初代の方が全然面白い     2    -1\n",
       "3  1.514253e+09               聞こえん     2    -1\n",
       "4  1.485183e+09            練習動画かな？     2    -1"
      ]
     },
     "execution_count": 3,
     "metadata": {},
     "output_type": "execute_result"
    }
   ],
   "source": [
    "import pandas as pd\n",
    "\n",
    "hiniku=pd.read_csv(\"hiniku/hiniku.csv\")\n",
    "hiniku.head()"
   ]
  },
  {
   "cell_type": "code",
   "execution_count": 20,
   "metadata": {},
   "outputs": [],
   "source": [
    "# import numpy as np\n",
    "# col=[\"content\", \"type\", \"hinikuword\"]\n",
    "# df = pd.DataFrame(columns=col)\n",
    "# # hiniku_word=[]\n",
    "# for i in range(hiniku.shape[0]):\n",
    "#         print(hiniku.iloc[i].content)\n",
    "#         word = input()\n",
    "#         newdf = pd.DataFrame(np.array([hiniku.iloc[i].content, hiniku.iloc[i].type, word]).reshape(1,-1), columns=col)\n",
    "#         df = pd.concat([df, newdf])"
   ]
  },
  {
   "cell_type": "code",
   "execution_count": null,
   "metadata": {},
   "outputs": [],
   "source": []
  },
  {
   "cell_type": "code",
   "execution_count": null,
   "metadata": {},
   "outputs": [],
   "source": [
    "import pandas as pd\n",
    "import numpy as np\n",
    "##ニュートラル\n",
    "df1 = pd.read_csv('neautral/Comment-normal.csv')#[[\"comment\", \"type\"]]\n",
    "df1[\"content\"] = df1[\"comment\"]\n",
    "df1 = df1[[\"content\", \"type\"]]\n",
    "\n",
    "df2 = pd.read_csv('neautral/neutral.csv')[[\"content\", \"type\"]]\n",
    "df3 = pd.read_csv('neautral/sample(0).csv')\n",
    "df3.columns = col = [\"No\", \"content\",\"type\"]\n",
    "df3 = df3[[\"content\", \"type\"]]\n",
    "df1 = pd.concat([df1, df2])\n",
    "df1 = pd.concat([df1, df3]) \n",
    "df1.to_csv('clean/cleaned_normal.csv', index=False)"
   ]
  },
  {
   "cell_type": "code",
   "execution_count": 185,
   "metadata": {},
   "outputs": [],
   "source": [
    "import pandas as pd\n",
    "import numpy as np\n",
    "##ニュートラル\n",
    "df1 = pd.read_csv('neautral/Comment-normal.csv')#[[\"comment\", \"type\"]]\n",
    "df1[\"content\"] = df1[\"comment\"]\n",
    "df1 = df1[[\"content\", \"type\"]]\n",
    "\n",
    "df2 = pd.read_csv('neautral/neutral.csv')[[\"content\", \"type\"]]\n",
    "df3 = pd.read_csv('neautral/sample(0).csv')\n",
    "df3.columns = col = [\"No\", \"content\",\"type\"]\n",
    "df3 = df3[[\"content\", \"type\"]]\n",
    "df1 = pd.concat([df1, df2])\n",
    "df1 = pd.concat([df1, df3]) \n",
    "df1.to_csv('clean/cleaned_normal.csv', index=False)"
   ]
  },
  {
   "cell_type": "code",
   "execution_count": 165,
   "metadata": {},
   "outputs": [],
   "source": [
    "df1 = pd.read_csv('bad/1(0000-0020).csv')[[\"content\", \"type\", \"word\"]]\n",
    "\n",
    "df2 = pd.read_csv('bad/bad.csv')[[\"content\", \"type\", \"word\"]]\n",
    "df3 = pd.read_csv('bad/Comment-slander.csv')\n",
    "df3[\"content\"]=df3[\"comment\"]\n",
    "df3  = df3[[\"content\",\"type\"]]\n",
    "df3 = df3.dropna()\n",
    "df3.columns = col = [\"content\",\"type\"]\n",
    "df3[\"word\"] = pd.read_csv('bad/bad_list.csv',encoding=\"shift-jis\")\n",
    "\n",
    "\n",
    "col=[\"no\", \"content\", \"type\"]\n",
    "df4 = pd.read_csv('bad/sample(1).csv')#.drop('No\t', axis=1)\n",
    "df4.columns=col\n",
    "df4.drop(\"no\", axis=1, inplace=True)\n",
    "df4[\"word\"]=np.nan\n",
    "df1 = pd.concat([df1,df2])\n",
    "df2 = pd.concat([df3,df4])\n",
    "df1 = pd.concat([df1,df2])\n",
    "df1.to_csv(\"clean/cleaned_bad.csv\", index=False)"
   ]
  },
  {
   "cell_type": "code",
   "execution_count": 184,
   "metadata": {},
   "outputs": [],
   "source": [
    "df1 = pd.read_csv('./hiniku/2[0000-0026].csv')[[\"content\", \"type\"]]\n",
    "df2 = pd.read_csv('./hiniku/Comment-hiniku.csv')\n",
    "df2[\"content\"]=df2[\"comment\"]\n",
    "df2 = df2[[\"content\", \"type\"]]\n",
    "df3 = pd.read_csv('./hiniku/hiniku.csv')[[\"content\", \"type\"]]\n",
    "df4 = pd.read_csv('./hiniku/sample(2).csv')\n",
    "col=[\"no\", \"content\", \"type\"]\n",
    "df4.columns = col\n",
    "df4 = df4[[\"content\", \"type\"]]\n",
    "\n",
    "df1 = pd.concat([df1,df2])\n",
    "df2 = pd.concat([df3,df4])\n",
    "df1 = pd.concat([df1,df2])\n",
    "df1.to_csv(\"clean/cleaned_hiniku.csv\", index=False)"
   ]
  },
  {
   "cell_type": "code",
   "execution_count": null,
   "metadata": {},
   "outputs": [],
   "source": []
  },
  {
   "cell_type": "code",
   "execution_count": 186,
   "metadata": {},
   "outputs": [],
   "source": [
    "normal = pd.read_csv('./clean/cleaned_normal.csv')\n",
    "hiniku = pd.read_csv('./clean/cleaned_hiniku.csv')\n",
    "bad= pd.read_csv('./clean/cleaned_bad.csv')"
   ]
  },
  {
   "cell_type": "code",
   "execution_count": 197,
   "metadata": {},
   "outputs": [],
   "source": [
    "bad_list = pd.DataFrame(bad.word.values, columns=[\"bad\"])\n",
    "bad_list=bad_list.dropna(axis=0)"
   ]
  },
  {
   "cell_type": "code",
   "execution_count": 208,
   "metadata": {},
   "outputs": [],
   "source": [
    "bad_list = bad_list[~bad_list.duplicated()]\n",
    "bad_list.to_csv('./clean/mount_bad_list.csv', index=False)"
   ]
  },
  {
   "cell_type": "code",
   "execution_count": 207,
   "metadata": {},
   "outputs": [],
   "source": [
    "df = pd.concat([normal, hiniku])\n",
    "df = pd.concat([df,bad])\n",
    "df.drop('word', axis=1, inplace=True)\n",
    "df.to_csv('./clean/mount_all_data.csv', index=False)"
   ]
  },
  {
   "cell_type": "code",
   "execution_count": null,
   "metadata": {},
   "outputs": [],
   "source": []
  },
  {
   "cell_type": "code",
   "execution_count": null,
   "metadata": {},
   "outputs": [],
   "source": []
  }
 ],
 "metadata": {
  "kernelspec": {
   "display_name": "learning",
   "language": "python",
   "name": "learning"
  },
  "language_info": {
   "codemirror_mode": {
    "name": "ipython",
    "version": 3
   },
   "file_extension": ".py",
   "mimetype": "text/x-python",
   "name": "python",
   "nbconvert_exporter": "python",
   "pygments_lexer": "ipython3",
   "version": "3.8.2"
  }
 },
 "nbformat": 4,
 "nbformat_minor": 4
}
