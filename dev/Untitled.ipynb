{
 "cells": [
  {
   "cell_type": "code",
   "execution_count": 1,
   "metadata": {},
   "outputs": [],
   "source": [
    "import pandas as pd\n",
    "bad = pd.read_csv('../data/bad/bad.csv')\n",
    "normal=pd.read_csv('../data/neautral/neutral.csv')\n",
    "hiniku=pd.read_csv('../data/hiniku/hiniku.csv')"
   ]
  },
  {
   "cell_type": "code",
   "execution_count": null,
   "metadata": {},
   "outputs": [],
   "source": []
  },
  {
   "cell_type": "code",
   "execution_count": 2,
   "metadata": {},
   "outputs": [],
   "source": [
    "badwordlist = list(bad.word)#悪口単語をリストで抽出"
   ]
  },
  {
   "cell_type": "code",
   "execution_count": 49,
   "metadata": {},
   "outputs": [],
   "source": [
    "'''\n",
    "[形態素解析した時の単語数],[単純に悪口単語が文章に含まれているのかのフラグ], [文章中に現れる悪口数]\n",
    "'''\n",
    "\n",
    "# df = bad.copy()\n",
    "df = pd.concat([hiniku, normal])\n",
    "df = pd.concat([bad, df])\n",
    "import sys\n",
    "sys.path.append('/Users/nagataeiki/.pyenv/versions/3.7.4/lib/python3.7/site-packages')\n",
    "import numpy as np\n",
    "from janome.tokenizer import Tokenizer\n",
    "import janome\n",
    "\n",
    "tokenizer = Tokenizer()\n",
    "#悪口が含まれている数のカウント, 単に含まれているのかのフラグを返す\n",
    "def get_bad_word_count(text, badwordlist):\n",
    "\n",
    "    textlist = []\n",
    "    count=0\n",
    "    flg=0\n",
    "    for t in tokenizer.tokenize(text):\n",
    "        if t.surface in badwordlist:\n",
    "            count+=1\n",
    "    for w in badwordlist:\n",
    "        if w in text:\n",
    "            flg=1\n",
    "            return count, flg\n",
    "    \n",
    "    return count,flg\n",
    "\n",
    "\n",
    "#dfと悪口辞書を入れて新しい特徴量を含んだdfを返す\n",
    "def make_bad_feature(df, badwordlist):\n",
    "    col=[\"content\",\"mophologics_num\", \"bad_word_num\", \"simple_bad_flg\",\"target\"]\n",
    "    basedf = pd.DataFrame(columns=col)\n",
    "    tokenizer = Tokenizer()\n",
    "    for r in df.iterrows():\n",
    "        text = r[1].content\n",
    "        target = r[1].type\n",
    "        num = len(tokenizer.tokenize(text))\n",
    "        count,flg = get_bad_word_count(text, badwordlist)\n",
    "        \n",
    "        newdf = pd.DataFrame(np.array([text, num, count,flg,target]).reshape(1,-1),columns=col)\n",
    "        basedf = pd.concat([basedf, newdf])\n",
    "\n",
    "    basedf[\"target\"] = basedf.apply(lambda x: int(x[\"target\"]), axis=1)\n",
    "    return basedf\n",
    "df =make_bad_feature(df, badwordlist)"
   ]
  },
  {
   "cell_type": "code",
   "execution_count": 50,
   "metadata": {},
   "outputs": [
    {
     "data": {
      "text/html": [
       "<div>\n",
       "<style scoped>\n",
       "    .dataframe tbody tr th:only-of-type {\n",
       "        vertical-align: middle;\n",
       "    }\n",
       "\n",
       "    .dataframe tbody tr th {\n",
       "        vertical-align: top;\n",
       "    }\n",
       "\n",
       "    .dataframe thead th {\n",
       "        text-align: right;\n",
       "    }\n",
       "</style>\n",
       "<table border=\"1\" class=\"dataframe\">\n",
       "  <thead>\n",
       "    <tr style=\"text-align: right;\">\n",
       "      <th></th>\n",
       "      <th>content</th>\n",
       "      <th>mophologics_num</th>\n",
       "      <th>bad_word_num</th>\n",
       "      <th>simple_bad_flg</th>\n",
       "      <th>target</th>\n",
       "    </tr>\n",
       "  </thead>\n",
       "  <tbody>\n",
       "    <tr>\n",
       "      <th>0</th>\n",
       "      <td>ガイジ</td>\n",
       "      <td>1</td>\n",
       "      <td>1</td>\n",
       "      <td>1</td>\n",
       "      <td>1</td>\n",
       "    </tr>\n",
       "    <tr>\n",
       "      <th>0</th>\n",
       "      <td>くどい</td>\n",
       "      <td>1</td>\n",
       "      <td>1</td>\n",
       "      <td>1</td>\n",
       "      <td>1</td>\n",
       "    </tr>\n",
       "    <tr>\n",
       "      <th>0</th>\n",
       "      <td>偽物　ただの釣り動画</td>\n",
       "      <td>6</td>\n",
       "      <td>2</td>\n",
       "      <td>1</td>\n",
       "      <td>1</td>\n",
       "    </tr>\n",
       "    <tr>\n",
       "      <th>0</th>\n",
       "      <td>振り付けダサイ</td>\n",
       "      <td>2</td>\n",
       "      <td>0</td>\n",
       "      <td>1</td>\n",
       "      <td>1</td>\n",
       "    </tr>\n",
       "    <tr>\n",
       "      <th>0</th>\n",
       "      <td>男きも</td>\n",
       "      <td>3</td>\n",
       "      <td>0</td>\n",
       "      <td>1</td>\n",
       "      <td>1</td>\n",
       "    </tr>\n",
       "    <tr>\n",
       "      <th>...</th>\n",
       "      <td>...</td>\n",
       "      <td>...</td>\n",
       "      <td>...</td>\n",
       "      <td>...</td>\n",
       "      <td>...</td>\n",
       "    </tr>\n",
       "    <tr>\n",
       "      <th>0</th>\n",
       "      <td>絶対結婚するぅぅ</td>\n",
       "      <td>4</td>\n",
       "      <td>0</td>\n",
       "      <td>0</td>\n",
       "      <td>0</td>\n",
       "    </tr>\n",
       "    <tr>\n",
       "      <th>0</th>\n",
       "      <td>ええこや</td>\n",
       "      <td>4</td>\n",
       "      <td>0</td>\n",
       "      <td>0</td>\n",
       "      <td>0</td>\n",
       "    </tr>\n",
       "    <tr>\n",
       "      <th>0</th>\n",
       "      <td>教養のあるゴリラやな</td>\n",
       "      <td>6</td>\n",
       "      <td>1</td>\n",
       "      <td>1</td>\n",
       "      <td>0</td>\n",
       "    </tr>\n",
       "    <tr>\n",
       "      <th>0</th>\n",
       "      <td>なんか漏れたかなー　これは惜しい</td>\n",
       "      <td>9</td>\n",
       "      <td>0</td>\n",
       "      <td>0</td>\n",
       "      <td>0</td>\n",
       "    </tr>\n",
       "    <tr>\n",
       "      <th>0</th>\n",
       "      <td>押っ忍</td>\n",
       "      <td>3</td>\n",
       "      <td>0</td>\n",
       "      <td>0</td>\n",
       "      <td>0</td>\n",
       "    </tr>\n",
       "  </tbody>\n",
       "</table>\n",
       "<p>750 rows × 5 columns</p>\n",
       "</div>"
      ],
      "text/plain": [
       "             content mophologics_num bad_word_num simple_bad_flg  target\n",
       "0                ガイジ               1            1              1       1\n",
       "0                くどい               1            1              1       1\n",
       "0         偽物　ただの釣り動画               6            2              1       1\n",
       "0            振り付けダサイ               2            0              1       1\n",
       "0                男きも               3            0              1       1\n",
       "..               ...             ...          ...            ...     ...\n",
       "0           絶対結婚するぅぅ               4            0              0       0\n",
       "0               ええこや               4            0              0       0\n",
       "0         教養のあるゴリラやな               6            1              1       0\n",
       "0   なんか漏れたかなー　これは惜しい               9            0              0       0\n",
       "0                押っ忍               3            0              0       0\n",
       "\n",
       "[750 rows x 5 columns]"
      ]
     },
     "execution_count": 50,
     "metadata": {},
     "output_type": "execute_result"
    }
   ],
   "source": [
    "df"
   ]
  },
  {
   "cell_type": "code",
   "execution_count": 51,
   "metadata": {},
   "outputs": [],
   "source": [
    "X = df[[\"mophologics_num\", \"bad_word_num\", \"simple_bad_flg\"]]\n",
    "y = df.target"
   ]
  },
  {
   "cell_type": "code",
   "execution_count": 52,
   "metadata": {},
   "outputs": [],
   "source": [
    "from sklearn.model_selection import train_test_split\n",
    "from sklearn.svm import SVC\n",
    "from sklearn.metrics import f1_score\n",
    "x_train, x_test, y_train, y_test = train_test_split(X,y, test_size=0.2, random_state=42)\n",
    "svm = SVC(C=1.0, random_state=42)\n",
    "svm.fit(x_train, y_train)\n",
    "\n",
    "pred_train = svm.predict(x_train)\n",
    "pred_test = svm.predict(x_test)\n",
    "print(f1_score(y_train, pred_train))\n",
    "print(f1_score(y_test, pred_test))"
   ]
  },
  {
   "cell_type": "code",
   "execution_count": 55,
   "metadata": {},
   "outputs": [],
   "source": [
    "from sklearn.model_selection import train_test_split\n",
    "from sklearn.svm import SVC\n",
    "from sklearn.multiclass import OneVsRestClassifier\n",
    "from sklearn.metrics import f1_score\n",
    "x_train, x_test, y_train, y_test = train_test_split(X,y, test_size=0.2, random_state=42)\n",
    "svm = SVC(C=1.0, random_state=42)\n",
    "model = OneVsRestClassifier(svm)\n",
    "model.fit(x_train, y_train)\n",
    "\n",
    "pred_train = model.predict(x_train)\n",
    "pred_test = model.predict(x_test)\n",
    "# print(f1_score(y_train, pred_train))\n",
    "# print(f1_score(y_test, pred_test))"
   ]
  },
  {
   "cell_type": "code",
   "execution_count": 114,
   "metadata": {},
   "outputs": [],
   "source": [
    "from sklearn.metrics import recall_score\n",
    "from sklearn.metrics import precision_score\n",
    "\n",
    "'''\n",
    "mxm,ここでは3x3のマトリックスを作成する\n",
    "そこからf1値を計算する（同ディレクトリの画像参照）\n",
    "'''\n",
    "\n",
    "def create_3x3_matrix(true_y, pred_y):\n",
    "    matrix = np.zeros(9)\n",
    "\n",
    "    for t,p in zip(true_y, pred_y):\n",
    "        if t==0:\n",
    "            if p==0:matrix[0]+=1\n",
    "            if p==1:matrix[1]+=1\n",
    "            if p==2:matrix[2]+=1\n",
    "        elif t==1:\n",
    "            if p==0:matrix[3]+=1\n",
    "            if p==1:matrix[4]+=1\n",
    "            if p==2:matrix[5]+=1\n",
    "        elif t==2:\n",
    "            if p==0:matrix[6]+=1\n",
    "            if p==1:matrix[7]+=1\n",
    "            if p==2:matrix[8]+=1\n",
    "\n",
    "    return matrix.reshape(3,3)\n",
    "    \n",
    "    \n"
   ]
  },
  {
   "cell_type": "code",
   "execution_count": 115,
   "metadata": {},
   "outputs": [
    {
     "data": {
      "text/plain": [
       "array([[156.,   8.,  43.],\n",
       "       [  3., 185.,  10.],\n",
       "       [103.,  18.,  74.]])"
      ]
     },
     "execution_count": 115,
     "metadata": {},
     "output_type": "execute_result"
    }
   ],
   "source": [
    "matrix=create_3x3_matrix(y_train, pred_train)\n",
    "matrix"
   ]
  },
  {
   "cell_type": "code",
   "execution_count": null,
   "metadata": {},
   "outputs": [],
   "source": [
    "def calc"
   ]
  },
  {
   "cell_type": "code",
   "execution_count": 124,
   "metadata": {},
   "outputs": [
    {
     "data": {
      "text/plain": [
       "array([0.75362319, 0.93434343, 0.37948718])"
      ]
     },
     "execution_count": 124,
     "metadata": {},
     "output_type": "execute_result"
    }
   ],
   "source": [
    "Recalls = np.zeros(3)\n",
    "for i in range(3):\n",
    "    Recalls[i] = matrix[i][i]/sum(matrix[i])\n",
    "Recalls"
   ]
  },
  {
   "cell_type": "code",
   "execution_count": 133,
   "metadata": {},
   "outputs": [
    {
     "data": {
      "text/plain": [
       "array([0.59541985, 0.87677725, 0.58267717])"
      ]
     },
     "execution_count": 133,
     "metadata": {},
     "output_type": "execute_result"
    }
   ],
   "source": [
    "Precisions = np.zeros(3)\n",
    "pred_sum = matrix.sum(axis=0)\n",
    "for i, ps in enumerate(pred_sum):\n",
    "    Precisions[i] = matrix[i][i]/ps\n",
    "Precisions"
   ]
  },
  {
   "cell_type": "code",
   "execution_count": 142,
   "metadata": {},
   "outputs": [
    {
     "data": {
      "text/plain": [
       "0.6870482798110917"
      ]
     },
     "execution_count": 142,
     "metadata": {},
     "output_type": "execute_result"
    }
   ],
   "source": [
    "f1_score = 2*Recalls.mean()*Precisions.mean()/(Recalls.mean()+Precisions.mean())\n",
    "f1_score"
   ]
  },
  {
   "cell_type": "code",
   "execution_count": null,
   "metadata": {},
   "outputs": [],
   "source": []
  },
  {
   "cell_type": "code",
   "execution_count": null,
   "metadata": {},
   "outputs": [],
   "source": []
  },
  {
   "cell_type": "code",
   "execution_count": 42,
   "metadata": {},
   "outputs": [],
   "source": [
    "def print_miss_pred(true_y, pred):\n",
    "    arr = []\n",
    "    pred_judge=[]\n",
    "    true_judge=[]\n",
    "    for i in range(len(pred)):\n",
    "        if pred[i]!=true_y.values[i]:\n",
    "            arr.append(i)\n",
    "            pred_judge.append(pred[i])\n",
    "            true_judge.append(true_y.values[i])\n",
    "\n",
    "    def print_str_label(num):\n",
    "        if num==0:\n",
    "            return \"ニュートラル\"\n",
    "        if num==1:\n",
    "            return \"悪口\"\n",
    "        if num==2:\n",
    "            return \"皮肉\"\n",
    "        return \"バグあり\"\n",
    "\n",
    "    for i,idx in enumerate(arr):\n",
    "        display(df.iloc[idx])\n",
    "        print('true label  *',true_judge[i] , (print_str_label(true_judge[i])))\n",
    "        print('pred label  *',pred_judge[i], (print_str_label(pred_judge[i])))\n",
    "        print(\"------------\")"
   ]
  },
  {
   "cell_type": "code",
   "execution_count": 44,
   "metadata": {},
   "outputs": [
    {
     "data": {
      "text/plain": [
       "content            振り付けダサイ\n",
       "mophologics_num          2\n",
       "bad_word_num             0\n",
       "simple_bad_flg           1\n",
       "target                   1\n",
       "Name: 0, dtype: object"
      ]
     },
     "metadata": {},
     "output_type": "display_data"
    },
    {
     "name": "stdout",
     "output_type": "stream",
     "text": [
      "true label  * 1 悪口\n",
      "pred label  * 2 皮肉\n",
      "------------\n"
     ]
    },
    {
     "data": {
      "text/plain": [
       "content            人間のクズが\n",
       "mophologics_num         4\n",
       "bad_word_num            1\n",
       "simple_bad_flg          1\n",
       "target                  1\n",
       "Name: 0, dtype: object"
      ]
     },
     "metadata": {},
     "output_type": "display_data"
    },
    {
     "name": "stdout",
     "output_type": "stream",
     "text": [
      "true label  * 1 悪口\n",
      "pred label  * 2 皮肉\n",
      "------------\n"
     ]
    },
    {
     "data": {
      "text/plain": [
       "content            ハゲやん\n",
       "mophologics_num       2\n",
       "bad_word_num          1\n",
       "simple_bad_flg        1\n",
       "target                1\n",
       "Name: 0, dtype: object"
      ]
     },
     "metadata": {},
     "output_type": "display_data"
    },
    {
     "name": "stdout",
     "output_type": "stream",
     "text": [
      "true label  * 1 悪口\n",
      "pred label  * 2 皮肉\n",
      "------------\n"
     ]
    },
    {
     "data": {
      "text/plain": [
       "content            ホント編集ｋｓ\n",
       "mophologics_num          4\n",
       "bad_word_num             0\n",
       "simple_bad_flg           0\n",
       "target                   1\n",
       "Name: 0, dtype: object"
      ]
     },
     "metadata": {},
     "output_type": "display_data"
    },
    {
     "name": "stdout",
     "output_type": "stream",
     "text": [
      "true label  * 2 皮肉\n",
      "pred label  * 1 悪口\n",
      "------------\n"
     ]
    },
    {
     "data": {
      "text/plain": [
       "content            態度わりーな女\n",
       "mophologics_num          5\n",
       "bad_word_num             0\n",
       "simple_bad_flg           1\n",
       "target                   1\n",
       "Name: 0, dtype: object"
      ]
     },
     "metadata": {},
     "output_type": "display_data"
    },
    {
     "name": "stdout",
     "output_type": "stream",
     "text": [
      "true label  * 2 皮肉\n",
      "pred label  * 1 悪口\n",
      "------------\n"
     ]
    },
    {
     "data": {
      "text/plain": [
       "content            ヤローぶっ殺してやらー\n",
       "mophologics_num              5\n",
       "bad_word_num                 0\n",
       "simple_bad_flg               1\n",
       "target                       1\n",
       "Name: 0, dtype: object"
      ]
     },
     "metadata": {},
     "output_type": "display_data"
    },
    {
     "name": "stdout",
     "output_type": "stream",
     "text": [
      "true label  * 2 皮肉\n",
      "pred label  * 1 悪口\n",
      "------------\n"
     ]
    },
    {
     "data": {
      "text/plain": [
       "content            あのゴミ達を何に使うのだろうか\n",
       "mophologics_num                 11\n",
       "bad_word_num                     1\n",
       "simple_bad_flg                   1\n",
       "target                           1\n",
       "Name: 0, dtype: object"
      ]
     },
     "metadata": {},
     "output_type": "display_data"
    },
    {
     "name": "stdout",
     "output_type": "stream",
     "text": [
      "true label  * 2 皮肉\n",
      "pred label  * 1 悪口\n",
      "------------\n"
     ]
    },
    {
     "data": {
      "text/plain": [
       "content            あーころす\n",
       "mophologics_num        2\n",
       "bad_word_num           1\n",
       "simple_bad_flg         1\n",
       "target                 1\n",
       "Name: 0, dtype: object"
      ]
     },
     "metadata": {},
     "output_type": "display_data"
    },
    {
     "name": "stdout",
     "output_type": "stream",
     "text": [
      "true label  * 2 皮肉\n",
      "pred label  * 1 悪口\n",
      "------------\n"
     ]
    },
    {
     "data": {
      "text/plain": [
       "content            なら自分で描いてネットに載せろ9ず\n",
       "mophologics_num                   10\n",
       "bad_word_num                       0\n",
       "simple_bad_flg                     1\n",
       "target                             1\n",
       "Name: 0, dtype: object"
      ]
     },
     "metadata": {},
     "output_type": "display_data"
    },
    {
     "name": "stdout",
     "output_type": "stream",
     "text": [
      "true label  * 1 悪口\n",
      "pred label  * 2 皮肉\n",
      "------------\n"
     ]
    }
   ],
   "source": [
    "print_miss_pred(y_test, pred_test)"
   ]
  },
  {
   "cell_type": "code",
   "execution_count": 38,
   "metadata": {},
   "outputs": [
    {
     "data": {
      "text/plain": [
       "2"
      ]
     },
     "execution_count": 38,
     "metadata": {},
     "output_type": "execute_result"
    }
   ],
   "source": []
  },
  {
   "cell_type": "code",
   "execution_count": null,
   "metadata": {},
   "outputs": [],
   "source": []
  }
 ],
 "metadata": {
  "kernelspec": {
   "display_name": "learning",
   "language": "python",
   "name": "learning"
  },
  "language_info": {
   "codemirror_mode": {
    "name": "ipython",
    "version": 3
   },
   "file_extension": ".py",
   "mimetype": "text/x-python",
   "name": "python",
   "nbconvert_exporter": "python",
   "pygments_lexer": "ipython3",
   "version": "3.8.2"
  }
 },
 "nbformat": 4,
 "nbformat_minor": 4
}
